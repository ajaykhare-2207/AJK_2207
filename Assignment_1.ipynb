{
  "nbformat": 4,
  "nbformat_minor": 0,
  "metadata": {
    "colab": {
      "provenance": []
    },
    "kernelspec": {
      "name": "python3",
      "display_name": "Python 3"
    },
    "language_info": {
      "name": "python"
    }
  },
  "cells": [
    {
      "cell_type": "markdown",
      "source": [
        "Python\n",
        "Assignment_1 solution"
      ],
      "metadata": {
        "id": "b9i7V8Soko6q"
      }
    },
    {
      "cell_type": "code",
      "source": [
        "\"\"\"\n",
        "#Question 1\n",
        "Answer \n",
        "## *,- ,/ ,+ are expressions\n",
        "## 'hello',-87.8,6 are values\n",
        "\n",
        "### Question 2. What is the difference between string and variable?\n",
        "Answer\n",
        "#A string is a sequence of one or more characters (letters, numbers, symbols).Anything  assigned to a variable using quotes (single or double) will be considered as a string.\n",
        "#Strings exist within either single quotes ' or double quotes \"  in  Python\n",
        "# eg 'This is a book' # string example\n",
        "#   \"i don't know you\" # string example\n",
        "# x= '10' # type of x is string\n",
        " \n",
        "#Variable is a name which is reference to an object.There are certain rules in writing a variable in python:-\n",
        "#1) name must begin with a letter of the alphabet or an underscore(_) Example: abc=100\n",
        "#The first character can be followed by letters, numbers or underscores.\n",
        "#Python variable names are case sensitive. ...\n",
        "#Reserved words cannot be used as variable names.\n",
        "#variable cannot start from a number.\n",
        "\n",
        "#Question 3. Describe three different data types.\n",
        "Answer \n",
        "int- integer contains numbers without decimals.eg. \n",
        "float- contains category with decimals eg 10.2,-98.12\n",
        "str- contains string as a data type eg x= 'Ajay just joined ineuron'\n",
        "boolean-contains boolean values True ,False eg x= True\n",
        "\n",
        "Question 4.What is an expression made up of? What do all expressions do?\n",
        "Answer-\n",
        "Expression is combination of operands(22:53 06-12-2022values) and operators.The expression in Python produces some value or result ( reduce to single result)\n",
        "Eg : x = x + 10\n",
        "\n",
        "\n",
        "Question 5.This assignment statements, like spam = 10. What is the difference between an\n",
        "expression and a statement?\n",
        "Answer-An expression evaluates to a single value whereas statement does not.\n",
        "\n",
        "\n",
        "Question 6. After running the following code, what does the variable bacon contain?\n",
        "bacon = 22\n",
        "bacon + 1\n",
        "\n",
        "Answer: bacon variable will still be 22.'bacom + 1 ' does not reassign the value to the variable.\n",
        "\n",
        "\n",
        "Question 7. What should the values of the following two terms be?\n",
        "'spam' + 'spamspam'\n",
        "'spam'*3\n",
        "\n",
        "Answer 7.spamspamspam(for both expressions)\n",
        "\n",
        "Question 8. Why is eggs a valid variable name while 100 is invalid?\n",
        "Answer- It is because variable cannot begin with number(100 in this case).\n",
        "\n",
        "\n",
        "Question 9. What three functions can be used to get the integer, floating-point number, or string\n",
        "version of a value?\n",
        "Answer- int(),float(),str() functions will result in integer,floating point number, and string type of the values passed to them.\n",
        "\n",
        "\n",
        "Question 10. Why does this expression cause an error? How can you fix it?\n",
        "'I have eaten' + 99 + 'burritos'\n",
        "Answer- Error occurs because 99 is an integer type and only string can be concatenated using '+' operator.\n",
        "correct statement should be 'I have eaten' + str(99) + 'burritos'   OR 'I have eaten' + '99' + 'burritos'\n",
        "\n",
        "\"\"\""
      ],
      "metadata": {
        "id": "kC-7uPgDkseu"
      },
      "execution_count": null,
      "outputs": []
    }
  ]
}